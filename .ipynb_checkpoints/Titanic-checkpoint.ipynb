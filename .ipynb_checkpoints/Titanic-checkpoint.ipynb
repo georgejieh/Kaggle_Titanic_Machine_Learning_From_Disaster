{
 "cells": [
  {
   "cell_type": "markdown",
   "id": "ffcce0c7",
   "metadata": {},
   "source": [
    "# Initial Libaries and File Path Setup"
   ]
  },
  {
   "cell_type": "code",
   "execution_count": 8,
   "id": "96544634",
   "metadata": {},
   "outputs": [
    {
     "name": "stdout",
     "output_type": "stream",
     "text": [
      "C:/Users/George Jieh/Documents/GeorgeNancy/Data Science/Kaggle/Kaggle_Titanic_Machine_Learning_From_Disaster/data\\test.csv\n",
      "C:/Users/George Jieh/Documents/GeorgeNancy/Data Science/Kaggle/Kaggle_Titanic_Machine_Learning_From_Disaster/data\\train.csv\n"
     ]
    }
   ],
   "source": [
    "# Import initial depedencies and useful libraries\n",
    "import numpy as np\n",
    "import pandas as pd\n",
    "import os\n",
    "\n",
    "# List data directory content\n",
    "# Assigned project root folder's file path to a variable to make code more readable.\n",
    "dir_root = 'C:/Users/George Jieh/Documents/GeorgeNancy/Data Science/Kaggle/Kaggle_Titanic_Machine_Learning_From_Disaster/'\n",
    "for dirname, _, filenames in os.walk(dir_root+'data'):\n",
    "    for filename in filenames:\n",
    "        print(os.path.join(dirname, filename))"
   ]
  },
  {
   "cell_type": "markdown",
   "id": "518bb12d",
   "metadata": {},
   "source": [
    "# Loading Data"
   ]
  },
  {
   "cell_type": "code",
   "execution_count": 9,
   "id": "75a5783b",
   "metadata": {},
   "outputs": [
    {
     "data": {
      "text/html": [
       "<div>\n",
       "<style scoped>\n",
       "    .dataframe tbody tr th:only-of-type {\n",
       "        vertical-align: middle;\n",
       "    }\n",
       "\n",
       "    .dataframe tbody tr th {\n",
       "        vertical-align: top;\n",
       "    }\n",
       "\n",
       "    .dataframe thead th {\n",
       "        text-align: right;\n",
       "    }\n",
       "</style>\n",
       "<table border=\"1\" class=\"dataframe\">\n",
       "  <thead>\n",
       "    <tr style=\"text-align: right;\">\n",
       "      <th></th>\n",
       "      <th>PassengerId</th>\n",
       "      <th>Survived</th>\n",
       "      <th>Pclass</th>\n",
       "      <th>Name</th>\n",
       "      <th>Sex</th>\n",
       "      <th>Age</th>\n",
       "      <th>SibSp</th>\n",
       "      <th>Parch</th>\n",
       "      <th>Ticket</th>\n",
       "      <th>Fare</th>\n",
       "      <th>Cabin</th>\n",
       "      <th>Embarked</th>\n",
       "    </tr>\n",
       "  </thead>\n",
       "  <tbody>\n",
       "    <tr>\n",
       "      <th>0</th>\n",
       "      <td>1</td>\n",
       "      <td>0</td>\n",
       "      <td>3</td>\n",
       "      <td>Braund, Mr. Owen Harris</td>\n",
       "      <td>male</td>\n",
       "      <td>22.0</td>\n",
       "      <td>1</td>\n",
       "      <td>0</td>\n",
       "      <td>A/5 21171</td>\n",
       "      <td>7.2500</td>\n",
       "      <td>NaN</td>\n",
       "      <td>S</td>\n",
       "    </tr>\n",
       "    <tr>\n",
       "      <th>1</th>\n",
       "      <td>2</td>\n",
       "      <td>1</td>\n",
       "      <td>1</td>\n",
       "      <td>Cumings, Mrs. John Bradley (Florence Briggs Th...</td>\n",
       "      <td>female</td>\n",
       "      <td>38.0</td>\n",
       "      <td>1</td>\n",
       "      <td>0</td>\n",
       "      <td>PC 17599</td>\n",
       "      <td>71.2833</td>\n",
       "      <td>C85</td>\n",
       "      <td>C</td>\n",
       "    </tr>\n",
       "    <tr>\n",
       "      <th>2</th>\n",
       "      <td>3</td>\n",
       "      <td>1</td>\n",
       "      <td>3</td>\n",
       "      <td>Heikkinen, Miss. Laina</td>\n",
       "      <td>female</td>\n",
       "      <td>26.0</td>\n",
       "      <td>0</td>\n",
       "      <td>0</td>\n",
       "      <td>STON/O2. 3101282</td>\n",
       "      <td>7.9250</td>\n",
       "      <td>NaN</td>\n",
       "      <td>S</td>\n",
       "    </tr>\n",
       "    <tr>\n",
       "      <th>3</th>\n",
       "      <td>4</td>\n",
       "      <td>1</td>\n",
       "      <td>1</td>\n",
       "      <td>Futrelle, Mrs. Jacques Heath (Lily May Peel)</td>\n",
       "      <td>female</td>\n",
       "      <td>35.0</td>\n",
       "      <td>1</td>\n",
       "      <td>0</td>\n",
       "      <td>113803</td>\n",
       "      <td>53.1000</td>\n",
       "      <td>C123</td>\n",
       "      <td>S</td>\n",
       "    </tr>\n",
       "    <tr>\n",
       "      <th>4</th>\n",
       "      <td>5</td>\n",
       "      <td>0</td>\n",
       "      <td>3</td>\n",
       "      <td>Allen, Mr. William Henry</td>\n",
       "      <td>male</td>\n",
       "      <td>35.0</td>\n",
       "      <td>0</td>\n",
       "      <td>0</td>\n",
       "      <td>373450</td>\n",
       "      <td>8.0500</td>\n",
       "      <td>NaN</td>\n",
       "      <td>S</td>\n",
       "    </tr>\n",
       "  </tbody>\n",
       "</table>\n",
       "</div>"
      ],
      "text/plain": [
       "   PassengerId  Survived  Pclass  \\\n",
       "0            1         0       3   \n",
       "1            2         1       1   \n",
       "2            3         1       3   \n",
       "3            4         1       1   \n",
       "4            5         0       3   \n",
       "\n",
       "                                                Name     Sex   Age  SibSp  \\\n",
       "0                            Braund, Mr. Owen Harris    male  22.0      1   \n",
       "1  Cumings, Mrs. John Bradley (Florence Briggs Th...  female  38.0      1   \n",
       "2                             Heikkinen, Miss. Laina  female  26.0      0   \n",
       "3       Futrelle, Mrs. Jacques Heath (Lily May Peel)  female  35.0      1   \n",
       "4                           Allen, Mr. William Henry    male  35.0      0   \n",
       "\n",
       "   Parch            Ticket     Fare Cabin Embarked  \n",
       "0      0         A/5 21171   7.2500   NaN        S  \n",
       "1      0          PC 17599  71.2833   C85        C  \n",
       "2      0  STON/O2. 3101282   7.9250   NaN        S  \n",
       "3      0            113803  53.1000  C123        S  \n",
       "4      0            373450   8.0500   NaN        S  "
      ]
     },
     "execution_count": 9,
     "metadata": {},
     "output_type": "execute_result"
    }
   ],
   "source": [
    "# Load training data\n",
    "train_data = pd.read_csv(dir_root+\"/data/train.csv\")\n",
    "train_data.head()"
   ]
  },
  {
   "cell_type": "code",
   "execution_count": 10,
   "id": "c7a1d213",
   "metadata": {},
   "outputs": [
    {
     "data": {
      "text/html": [
       "<div>\n",
       "<style scoped>\n",
       "    .dataframe tbody tr th:only-of-type {\n",
       "        vertical-align: middle;\n",
       "    }\n",
       "\n",
       "    .dataframe tbody tr th {\n",
       "        vertical-align: top;\n",
       "    }\n",
       "\n",
       "    .dataframe thead th {\n",
       "        text-align: right;\n",
       "    }\n",
       "</style>\n",
       "<table border=\"1\" class=\"dataframe\">\n",
       "  <thead>\n",
       "    <tr style=\"text-align: right;\">\n",
       "      <th></th>\n",
       "      <th>PassengerId</th>\n",
       "      <th>Pclass</th>\n",
       "      <th>Name</th>\n",
       "      <th>Sex</th>\n",
       "      <th>Age</th>\n",
       "      <th>SibSp</th>\n",
       "      <th>Parch</th>\n",
       "      <th>Ticket</th>\n",
       "      <th>Fare</th>\n",
       "      <th>Cabin</th>\n",
       "      <th>Embarked</th>\n",
       "    </tr>\n",
       "  </thead>\n",
       "  <tbody>\n",
       "    <tr>\n",
       "      <th>0</th>\n",
       "      <td>892</td>\n",
       "      <td>3</td>\n",
       "      <td>Kelly, Mr. James</td>\n",
       "      <td>male</td>\n",
       "      <td>34.5</td>\n",
       "      <td>0</td>\n",
       "      <td>0</td>\n",
       "      <td>330911</td>\n",
       "      <td>7.8292</td>\n",
       "      <td>NaN</td>\n",
       "      <td>Q</td>\n",
       "    </tr>\n",
       "    <tr>\n",
       "      <th>1</th>\n",
       "      <td>893</td>\n",
       "      <td>3</td>\n",
       "      <td>Wilkes, Mrs. James (Ellen Needs)</td>\n",
       "      <td>female</td>\n",
       "      <td>47.0</td>\n",
       "      <td>1</td>\n",
       "      <td>0</td>\n",
       "      <td>363272</td>\n",
       "      <td>7.0000</td>\n",
       "      <td>NaN</td>\n",
       "      <td>S</td>\n",
       "    </tr>\n",
       "    <tr>\n",
       "      <th>2</th>\n",
       "      <td>894</td>\n",
       "      <td>2</td>\n",
       "      <td>Myles, Mr. Thomas Francis</td>\n",
       "      <td>male</td>\n",
       "      <td>62.0</td>\n",
       "      <td>0</td>\n",
       "      <td>0</td>\n",
       "      <td>240276</td>\n",
       "      <td>9.6875</td>\n",
       "      <td>NaN</td>\n",
       "      <td>Q</td>\n",
       "    </tr>\n",
       "    <tr>\n",
       "      <th>3</th>\n",
       "      <td>895</td>\n",
       "      <td>3</td>\n",
       "      <td>Wirz, Mr. Albert</td>\n",
       "      <td>male</td>\n",
       "      <td>27.0</td>\n",
       "      <td>0</td>\n",
       "      <td>0</td>\n",
       "      <td>315154</td>\n",
       "      <td>8.6625</td>\n",
       "      <td>NaN</td>\n",
       "      <td>S</td>\n",
       "    </tr>\n",
       "    <tr>\n",
       "      <th>4</th>\n",
       "      <td>896</td>\n",
       "      <td>3</td>\n",
       "      <td>Hirvonen, Mrs. Alexander (Helga E Lindqvist)</td>\n",
       "      <td>female</td>\n",
       "      <td>22.0</td>\n",
       "      <td>1</td>\n",
       "      <td>1</td>\n",
       "      <td>3101298</td>\n",
       "      <td>12.2875</td>\n",
       "      <td>NaN</td>\n",
       "      <td>S</td>\n",
       "    </tr>\n",
       "  </tbody>\n",
       "</table>\n",
       "</div>"
      ],
      "text/plain": [
       "   PassengerId  Pclass                                          Name     Sex  \\\n",
       "0          892       3                              Kelly, Mr. James    male   \n",
       "1          893       3              Wilkes, Mrs. James (Ellen Needs)  female   \n",
       "2          894       2                     Myles, Mr. Thomas Francis    male   \n",
       "3          895       3                              Wirz, Mr. Albert    male   \n",
       "4          896       3  Hirvonen, Mrs. Alexander (Helga E Lindqvist)  female   \n",
       "\n",
       "    Age  SibSp  Parch   Ticket     Fare Cabin Embarked  \n",
       "0  34.5      0      0   330911   7.8292   NaN        Q  \n",
       "1  47.0      1      0   363272   7.0000   NaN        S  \n",
       "2  62.0      0      0   240276   9.6875   NaN        Q  \n",
       "3  27.0      0      0   315154   8.6625   NaN        S  \n",
       "4  22.0      1      1  3101298  12.2875   NaN        S  "
      ]
     },
     "execution_count": 10,
     "metadata": {},
     "output_type": "execute_result"
    }
   ],
   "source": [
    "# Load test data\n",
    "test_data = pd.read_csv(dir_root+\"/data/test.csv\")\n",
    "test_data.head()"
   ]
  },
  {
   "cell_type": "markdown",
   "id": "127d9196",
   "metadata": {},
   "source": [
    "# Initial Basic Analysis"
   ]
  },
  {
   "cell_type": "code",
   "execution_count": 11,
   "id": "bfe2746d",
   "metadata": {},
   "outputs": [
    {
     "name": "stdout",
     "output_type": "stream",
     "text": [
      "% of women who survived: 74.20382165605095\n"
     ]
    }
   ],
   "source": [
    "women = train_data.loc[train_data.Sex == 'female'][\"Survived\"]\n",
    "perc_women = (sum(women)/len(women)) * 100\n",
    "\n",
    "print(\"% of women who survived:\", perc_women)"
   ]
  },
  {
   "cell_type": "code",
   "execution_count": 12,
   "id": "da1fae3b",
   "metadata": {},
   "outputs": [
    {
     "name": "stdout",
     "output_type": "stream",
     "text": [
      "% of men who survived: 18.890814558058924\n"
     ]
    }
   ],
   "source": [
    "men = train_data.loc[train_data.Sex == 'male'][\"Survived\"]\n",
    "perc_men = (sum(men)/len(men)) * 100\n",
    "\n",
    "print(\"% of men who survived:\", perc_men)"
   ]
  },
  {
   "cell_type": "code",
   "execution_count": 13,
   "id": "5adc7b02",
   "metadata": {},
   "outputs": [
    {
     "name": "stdout",
     "output_type": "stream",
     "text": [
      "% of 1st class passengers who surived 62.96296296296296\n"
     ]
    }
   ],
   "source": [
    "class_1 = train_data.loc[train_data.Pclass == 1]['Survived']\n",
    "perc_class_1 = ((sum(class_1))/len(class_1)) * 100\n",
    "\n",
    "print('% of 1st class passengers who surived', perc_class_1)"
   ]
  },
  {
   "cell_type": "code",
   "execution_count": 14,
   "id": "686b021f",
   "metadata": {},
   "outputs": [
    {
     "name": "stdout",
     "output_type": "stream",
     "text": [
      "% of 2nd class passengers who surived 47.28260869565217\n"
     ]
    }
   ],
   "source": [
    "class_2 = train_data.loc[train_data.Pclass == 2]['Survived']\n",
    "perc_class_2 = (sum(class_2)/len(class_2)) * 100\n",
    "\n",
    "print('% of 2nd class passengers who surived', perc_class_2)"
   ]
  },
  {
   "cell_type": "code",
   "execution_count": 15,
   "id": "a25aa7da",
   "metadata": {},
   "outputs": [
    {
     "name": "stdout",
     "output_type": "stream",
     "text": [
      "% of 3rd class passengers who surived 24.236252545824847\n"
     ]
    }
   ],
   "source": [
    "class_3 = train_data.loc[train_data.Pclass == 3]['Survived']\n",
    "perc_class_3 = (sum(class_3)/len(class_3)) * 100\n",
    "\n",
    "print('% of 3rd class passengers who surived', perc_class_3)"
   ]
  },
  {
   "cell_type": "code",
   "execution_count": 16,
   "id": "e0e8e8be",
   "metadata": {},
   "outputs": [
    {
     "name": "stdout",
     "output_type": "stream",
     "text": [
      "% of infant passengers, less than 1 years of age, who surived 100.0\n"
     ]
    }
   ],
   "source": [
    "infants = train_data.loc[train_data.Age < 1]['Survived']\n",
    "perc_infants = (sum(infants)/len(infants)) * 100\n",
    "\n",
    "print('% of infant passengers, less than 1 years of age, who surived', perc_infants)"
   ]
  },
  {
   "cell_type": "code",
   "execution_count": 17,
   "id": "cd91ab56",
   "metadata": {},
   "outputs": [
    {
     "name": "stdout",
     "output_type": "stream",
     "text": [
      "% of children passengers, between ages 1 to 12, who surived 53.2258064516129\n"
     ]
    }
   ],
   "source": [
    "children = train_data.loc[(train_data.Age >= 1) & (train_data.Age <= 12)]['Survived']\n",
    "perc_children = (sum(children)/len(children)) * 100\n",
    "\n",
    "print('% of children passengers, between ages 1 to 12, who surived', perc_children)"
   ]
  },
  {
   "cell_type": "code",
   "execution_count": 18,
   "id": "71282505",
   "metadata": {},
   "outputs": [
    {
     "name": "stdout",
     "output_type": "stream",
     "text": [
      "% of teenage passengers, between ages 13 to 17, who surived 47.72727272727273\n"
     ]
    }
   ],
   "source": [
    "teens = train_data.loc[(train_data.Age >= 13) & (train_data.Age <= 17)]['Survived']\n",
    "perc_teens = (sum(teens)/len(teens)) * 100\n",
    "\n",
    "print('% of teenage passengers, between ages 13 to 17, who surived', perc_teens)"
   ]
  },
  {
   "cell_type": "code",
   "execution_count": 19,
   "id": "7e26c0e4",
   "metadata": {},
   "outputs": [
    {
     "name": "stdout",
     "output_type": "stream",
     "text": [
      "% of young adult passengers, between ages 18 to 26, who surived 33.49514563106796\n"
     ]
    }
   ],
   "source": [
    "young_adults = train_data.loc[(train_data.Age >= 18) & (train_data.Age <= 26)]['Survived']\n",
    "perc_young_adults = (sum(young_adults)/len(young_adults)) * 100\n",
    "\n",
    "print('% of young adult passengers, between ages 18 to 26, who surived', perc_young_adults)"
   ]
  },
  {
   "cell_type": "code",
   "execution_count": 20,
   "id": "e6aa4647",
   "metadata": {},
   "outputs": [
    {
     "name": "stdout",
     "output_type": "stream",
     "text": [
      "% of adult passengers, between ages 27 to 39, who surived 42.672413793103445\n"
     ]
    }
   ],
   "source": [
    "adults = train_data.loc[(train_data.Age >= 27) & (train_data.Age <= 39)]['Survived']\n",
    "perc_adults = (sum(adults)/len(adults)) * 100\n",
    "\n",
    "print('% of adult passengers, between ages 27 to 39, who surived', perc_adults)"
   ]
  },
  {
   "cell_type": "code",
   "execution_count": 21,
   "id": "d7b25127",
   "metadata": {},
   "outputs": [
    {
     "name": "stdout",
     "output_type": "stream",
     "text": [
      "% of middle aged passengers, between ages 40 to 64, who surived 39.473684210526315\n"
     ]
    }
   ],
   "source": [
    "middle_aged = train_data.loc[(train_data.Age >= 40) & (train_data.Age <= 64)]['Survived']\n",
    "perc_middle_aged = (sum(middle_aged)/len(middle_aged)) * 100\n",
    "\n",
    "print('% of middle aged passengers, between ages 40 to 64, who surived', perc_middle_aged)"
   ]
  },
  {
   "cell_type": "code",
   "execution_count": 22,
   "id": "741cd747",
   "metadata": {},
   "outputs": [
    {
     "name": "stdout",
     "output_type": "stream",
     "text": [
      "% of elderly passengers, more than or equal to 65 years of age, who surived 9.090909090909092\n"
     ]
    }
   ],
   "source": [
    "elderly = train_data.loc[train_data.Age >= 65]['Survived']\n",
    "perc_elderly = (sum(elderly)/len(elderly)) * 100\n",
    "\n",
    "print('% of elderly passengers, more than or equal to 65 years of age, who surived', perc_elderly)"
   ]
  },
  {
   "cell_type": "code",
   "execution_count": 23,
   "id": "11490b32",
   "metadata": {},
   "outputs": [
    {
     "name": "stdout",
     "output_type": "stream",
     "text": [
      "% of passengers traveling with spouse and/or sibilings who surived 46.64310954063604\n"
     ]
    }
   ],
   "source": [
    "have_spouse_siblings = train_data.loc[train_data.SibSp > 0]['Survived']\n",
    "perc_have_spouse_siblings = (sum(have_spouse_siblings)/len(have_spouse_siblings)) * 100\n",
    "\n",
    "print('% of passengers traveling with spouse and/or sibilings who surived', perc_have_spouse_siblings)"
   ]
  },
  {
   "cell_type": "code",
   "execution_count": 24,
   "id": "74a937bb",
   "metadata": {},
   "outputs": [
    {
     "name": "stdout",
     "output_type": "stream",
     "text": [
      "% of passengers traveling with parents and/or children who surived 51.173708920187785\n"
     ]
    }
   ],
   "source": [
    "have_parent_children = train_data.loc[train_data.Parch > 0]['Survived']\n",
    "perc_have_parent_children = (sum(have_parent_children)/len(have_parent_children)) * 100\n",
    "\n",
    "print('% of passengers traveling with parents and/or children who surived', perc_have_parent_children)"
   ]
  },
  {
   "cell_type": "code",
   "execution_count": 25,
   "id": "a26cdfb9",
   "metadata": {},
   "outputs": [
    {
     "name": "stdout",
     "output_type": "stream",
     "text": [
      "% of passengers traveling alone who surived 30.353817504655495\n"
     ]
    }
   ],
   "source": [
    "travel_alone = train_data.loc[(train_data.Parch == 0) & (train_data.SibSp == 0)]['Survived']\n",
    "perc_travel_alone = (sum(travel_alone)/len(travel_alone)) * 100\n",
    "\n",
    "print('% of passengers traveling alone who surived', perc_travel_alone)"
   ]
  },
  {
   "cell_type": "markdown",
   "id": "9d06a278",
   "metadata": {},
   "source": [
    "# Converting Percentages to Rates"
   ]
  },
  {
   "cell_type": "code",
   "execution_count": 26,
   "id": "5c014458",
   "metadata": {},
   "outputs": [],
   "source": [
    "# converting percentage numbers back to decimals to make the values easier to work with later on\n",
    "rate_women = perc_women/100\n",
    "rate_men = perc_men/100\n",
    "rate_class_1 = perc_class_1/100\n",
    "rate_class_2 = perc_class_2/100\n",
    "rate_class_3 = perc_class_3/100\n",
    "rate_infants = perc_infants/100\n",
    "rate_children = perc_children/100\n",
    "rate_teens = perc_teens/100\n",
    "rate_young_adults = perc_young_adults/100\n",
    "rate_adults = perc_adults/100\n",
    "rate_middle_aged = perc_middle_aged/100\n",
    "rate_elderly = perc_elderly/100\n",
    "rate_have_spouse_siblings = perc_have_spouse_siblings/100\n",
    "rate_have_parent_children = perc_have_parent_children/100\n",
    "rate_travel_alone = perc_travel_alone/100"
   ]
  },
  {
   "cell_type": "markdown",
   "id": "7b31abb0",
   "metadata": {},
   "source": [
    "# Random Forest Model"
   ]
  },
  {
   "cell_type": "code",
   "execution_count": 32,
   "id": "26b1e87a",
   "metadata": {},
   "outputs": [
    {
     "name": "stdout",
     "output_type": "stream",
     "text": [
      "Done!\n"
     ]
    }
   ],
   "source": [
    "from sklearn.ensemble import RandomForestClassifier\n",
    "\n",
    "y = train_data[\"Survived\"]\n",
    "\n",
    "features = [\"Pclass\", \"Sex\", \"SibSp\", \"Parch\"]\n",
    "X = pd.get_dummies(train_data[features])\n",
    "X_test = pd.get_dummies(test_data[features])\n",
    "\n",
    "model = RandomForestClassifier(n_estimators=100, max_depth=6, random_state=1)\n",
    "model.fit(X, y)\n",
    "predictions = model.predict(X_test)\n",
    "\n",
    "output = pd.DataFrame({'PassengerId': test_data.PassengerId, 'Survived': predictions})\n",
    "output.to_csv('submission.csv', index=False)\n",
    "print(\"Done!\")"
   ]
  },
  {
   "cell_type": "code",
   "execution_count": null,
   "id": "20186958",
   "metadata": {},
   "outputs": [],
   "source": []
  }
 ],
 "metadata": {
  "kernelspec": {
   "display_name": "Python 3 (ipykernel)",
   "language": "python",
   "name": "python3"
  },
  "language_info": {
   "codemirror_mode": {
    "name": "ipython",
    "version": 3
   },
   "file_extension": ".py",
   "mimetype": "text/x-python",
   "name": "python",
   "nbconvert_exporter": "python",
   "pygments_lexer": "ipython3",
   "version": "3.11.4"
  }
 },
 "nbformat": 4,
 "nbformat_minor": 5
}
