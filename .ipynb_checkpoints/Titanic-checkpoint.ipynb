{
 "cells": [
  {
   "cell_type": "markdown",
   "id": "ffcce0c7",
   "metadata": {},
   "source": [
    "# Initial Libaries and File Path Setup"
   ]
  },
  {
   "cell_type": "code",
   "execution_count": 8,
   "id": "96544634",
   "metadata": {},
   "outputs": [
    {
     "name": "stdout",
     "output_type": "stream",
     "text": [
      "C:/Users/George Jieh/Documents/GeorgeNancy/Data Science/Kaggle/Kaggle_Titanic_Machine_Learning_From_Disaster/data\\test.csv\n",
      "C:/Users/George Jieh/Documents/GeorgeNancy/Data Science/Kaggle/Kaggle_Titanic_Machine_Learning_From_Disaster/data\\train.csv\n"
     ]
    }
   ],
   "source": [
    "# Import initial depedencies and useful libraries\n",
    "import numpy as np\n",
    "import pandas as pd\n",
    "import os\n",
    "\n",
    "# List data directory content\n",
    "# Assigned project root folder's file path to a variable to make code more readable.\n",
    "dir_root = 'C:/Users/George Jieh/Documents/GeorgeNancy/Data Science/Kaggle/Kaggle_Titanic_Machine_Learning_From_Disaster/'\n",
    "for dirname, _, filenames in os.walk(dir_root+'data'):\n",
    "    for filename in filenames:\n",
    "        print(os.path.join(dirname, filename))"
   ]
  },
  {
   "cell_type": "markdown",
   "id": "518bb12d",
   "metadata": {},
   "source": [
    "# Loading Data"
   ]
  },
  {
   "cell_type": "code",
   "execution_count": 9,
   "id": "75a5783b",
   "metadata": {},
   "outputs": [
    {
     "data": {
      "text/html": [
       "<div>\n",
       "<style scoped>\n",
       "    .dataframe tbody tr th:only-of-type {\n",
       "        vertical-align: middle;\n",
       "    }\n",
       "\n",
       "    .dataframe tbody tr th {\n",
       "        vertical-align: top;\n",
       "    }\n",
       "\n",
       "    .dataframe thead th {\n",
       "        text-align: right;\n",
       "    }\n",
       "</style>\n",
       "<table border=\"1\" class=\"dataframe\">\n",
       "  <thead>\n",
       "    <tr style=\"text-align: right;\">\n",
       "      <th></th>\n",
       "      <th>PassengerId</th>\n",
       "      <th>Survived</th>\n",
       "      <th>Pclass</th>\n",
       "      <th>Name</th>\n",
       "      <th>Sex</th>\n",
       "      <th>Age</th>\n",
       "      <th>SibSp</th>\n",
       "      <th>Parch</th>\n",
       "      <th>Ticket</th>\n",
       "      <th>Fare</th>\n",
       "      <th>Cabin</th>\n",
       "      <th>Embarked</th>\n",
       "    </tr>\n",
       "  </thead>\n",
       "  <tbody>\n",
       "    <tr>\n",
       "      <th>0</th>\n",
       "      <td>1</td>\n",
       "      <td>0</td>\n",
       "      <td>3</td>\n",
       "      <td>Braund, Mr. Owen Harris</td>\n",
       "      <td>male</td>\n",
       "      <td>22.0</td>\n",
       "      <td>1</td>\n",
       "      <td>0</td>\n",
       "      <td>A/5 21171</td>\n",
       "      <td>7.2500</td>\n",
       "      <td>NaN</td>\n",
       "      <td>S</td>\n",
       "    </tr>\n",
       "    <tr>\n",
       "      <th>1</th>\n",
       "      <td>2</td>\n",
       "      <td>1</td>\n",
       "      <td>1</td>\n",
       "      <td>Cumings, Mrs. John Bradley (Florence Briggs Thayer)</td>\n",
       "      <td>female</td>\n",
       "      <td>38.0</td>\n",
       "      <td>1</td>\n",
       "      <td>0</td>\n",
       "      <td>PC 17599</td>\n",
       "      <td>71.2833</td>\n",
       "      <td>C85</td>\n",
       "      <td>C</td>\n",
       "    </tr>\n",
       "    <tr>\n",
       "      <th>2</th>\n",
       "      <td>3</td>\n",
       "      <td>1</td>\n",
       "      <td>3</td>\n",
       "      <td>Heikkinen, Miss. Laina</td>\n",
       "      <td>female</td>\n",
       "      <td>26.0</td>\n",
       "      <td>0</td>\n",
       "      <td>0</td>\n",
       "      <td>STON/O2. 3101282</td>\n",
       "      <td>7.9250</td>\n",
       "      <td>NaN</td>\n",
       "      <td>S</td>\n",
       "    </tr>\n",
       "    <tr>\n",
       "      <th>3</th>\n",
       "      <td>4</td>\n",
       "      <td>1</td>\n",
       "      <td>1</td>\n",
       "      <td>Futrelle, Mrs. Jacques Heath (Lily May Peel)</td>\n",
       "      <td>female</td>\n",
       "      <td>35.0</td>\n",
       "      <td>1</td>\n",
       "      <td>0</td>\n",
       "      <td>113803</td>\n",
       "      <td>53.1000</td>\n",
       "      <td>C123</td>\n",
       "      <td>S</td>\n",
       "    </tr>\n",
       "    <tr>\n",
       "      <th>4</th>\n",
       "      <td>5</td>\n",
       "      <td>0</td>\n",
       "      <td>3</td>\n",
       "      <td>Allen, Mr. William Henry</td>\n",
       "      <td>male</td>\n",
       "      <td>35.0</td>\n",
       "      <td>0</td>\n",
       "      <td>0</td>\n",
       "      <td>373450</td>\n",
       "      <td>8.0500</td>\n",
       "      <td>NaN</td>\n",
       "      <td>S</td>\n",
       "    </tr>\n",
       "  </tbody>\n",
       "</table>\n",
       "</div>"
      ],
      "text/plain": [
       "   PassengerId  Survived  Pclass  \\\n",
       "0            1         0       3   \n",
       "1            2         1       1   \n",
       "2            3         1       3   \n",
       "3            4         1       1   \n",
       "4            5         0       3   \n",
       "\n",
       "                                                  Name     Sex   Age  SibSp  \\\n",
       "0                              Braund, Mr. Owen Harris    male  22.0      1   \n",
       "1  Cumings, Mrs. John Bradley (Florence Briggs Thayer)  female  38.0      1   \n",
       "2                               Heikkinen, Miss. Laina  female  26.0      0   \n",
       "3         Futrelle, Mrs. Jacques Heath (Lily May Peel)  female  35.0      1   \n",
       "4                             Allen, Mr. William Henry    male  35.0      0   \n",
       "\n",
       "   Parch            Ticket     Fare Cabin Embarked  \n",
       "0      0         A/5 21171   7.2500   NaN        S  \n",
       "1      0          PC 17599  71.2833   C85        C  \n",
       "2      0  STON/O2. 3101282   7.9250   NaN        S  \n",
       "3      0            113803  53.1000  C123        S  \n",
       "4      0            373450   8.0500   NaN        S  "
      ]
     },
     "execution_count": 9,
     "metadata": {},
     "output_type": "execute_result"
    }
   ],
   "source": [
    "# Load training data\n",
    "train_data = pd.read_csv(dir_root+\"/data/train.csv\")\n",
    "train_data.head()"
   ]
  },
  {
   "cell_type": "code",
   "execution_count": 10,
   "id": "c7a1d213",
   "metadata": {},
   "outputs": [
    {
     "data": {
      "text/html": [
       "<div>\n",
       "<style scoped>\n",
       "    .dataframe tbody tr th:only-of-type {\n",
       "        vertical-align: middle;\n",
       "    }\n",
       "\n",
       "    .dataframe tbody tr th {\n",
       "        vertical-align: top;\n",
       "    }\n",
       "\n",
       "    .dataframe thead th {\n",
       "        text-align: right;\n",
       "    }\n",
       "</style>\n",
       "<table border=\"1\" class=\"dataframe\">\n",
       "  <thead>\n",
       "    <tr style=\"text-align: right;\">\n",
       "      <th></th>\n",
       "      <th>PassengerId</th>\n",
       "      <th>Pclass</th>\n",
       "      <th>Name</th>\n",
       "      <th>Sex</th>\n",
       "      <th>Age</th>\n",
       "      <th>SibSp</th>\n",
       "      <th>Parch</th>\n",
       "      <th>Ticket</th>\n",
       "      <th>Fare</th>\n",
       "      <th>Cabin</th>\n",
       "      <th>Embarked</th>\n",
       "    </tr>\n",
       "  </thead>\n",
       "  <tbody>\n",
       "    <tr>\n",
       "      <th>0</th>\n",
       "      <td>892</td>\n",
       "      <td>3</td>\n",
       "      <td>Kelly, Mr. James</td>\n",
       "      <td>male</td>\n",
       "      <td>34.5</td>\n",
       "      <td>0</td>\n",
       "      <td>0</td>\n",
       "      <td>330911</td>\n",
       "      <td>7.8292</td>\n",
       "      <td>NaN</td>\n",
       "      <td>Q</td>\n",
       "    </tr>\n",
       "    <tr>\n",
       "      <th>1</th>\n",
       "      <td>893</td>\n",
       "      <td>3</td>\n",
       "      <td>Wilkes, Mrs. James (Ellen Needs)</td>\n",
       "      <td>female</td>\n",
       "      <td>47.0</td>\n",
       "      <td>1</td>\n",
       "      <td>0</td>\n",
       "      <td>363272</td>\n",
       "      <td>7.0000</td>\n",
       "      <td>NaN</td>\n",
       "      <td>S</td>\n",
       "    </tr>\n",
       "    <tr>\n",
       "      <th>2</th>\n",
       "      <td>894</td>\n",
       "      <td>2</td>\n",
       "      <td>Myles, Mr. Thomas Francis</td>\n",
       "      <td>male</td>\n",
       "      <td>62.0</td>\n",
       "      <td>0</td>\n",
       "      <td>0</td>\n",
       "      <td>240276</td>\n",
       "      <td>9.6875</td>\n",
       "      <td>NaN</td>\n",
       "      <td>Q</td>\n",
       "    </tr>\n",
       "    <tr>\n",
       "      <th>3</th>\n",
       "      <td>895</td>\n",
       "      <td>3</td>\n",
       "      <td>Wirz, Mr. Albert</td>\n",
       "      <td>male</td>\n",
       "      <td>27.0</td>\n",
       "      <td>0</td>\n",
       "      <td>0</td>\n",
       "      <td>315154</td>\n",
       "      <td>8.6625</td>\n",
       "      <td>NaN</td>\n",
       "      <td>S</td>\n",
       "    </tr>\n",
       "    <tr>\n",
       "      <th>4</th>\n",
       "      <td>896</td>\n",
       "      <td>3</td>\n",
       "      <td>Hirvonen, Mrs. Alexander (Helga E Lindqvist)</td>\n",
       "      <td>female</td>\n",
       "      <td>22.0</td>\n",
       "      <td>1</td>\n",
       "      <td>1</td>\n",
       "      <td>3101298</td>\n",
       "      <td>12.2875</td>\n",
       "      <td>NaN</td>\n",
       "      <td>S</td>\n",
       "    </tr>\n",
       "  </tbody>\n",
       "</table>\n",
       "</div>"
      ],
      "text/plain": [
       "   PassengerId  Pclass                                          Name     Sex  \\\n",
       "0          892       3                              Kelly, Mr. James    male   \n",
       "1          893       3              Wilkes, Mrs. James (Ellen Needs)  female   \n",
       "2          894       2                     Myles, Mr. Thomas Francis    male   \n",
       "3          895       3                              Wirz, Mr. Albert    male   \n",
       "4          896       3  Hirvonen, Mrs. Alexander (Helga E Lindqvist)  female   \n",
       "\n",
       "    Age  SibSp  Parch   Ticket     Fare Cabin Embarked  \n",
       "0  34.5      0      0   330911   7.8292   NaN        Q  \n",
       "1  47.0      1      0   363272   7.0000   NaN        S  \n",
       "2  62.0      0      0   240276   9.6875   NaN        Q  \n",
       "3  27.0      0      0   315154   8.6625   NaN        S  \n",
       "4  22.0      1      1  3101298  12.2875   NaN        S  "
      ]
     },
     "execution_count": 10,
     "metadata": {},
     "output_type": "execute_result"
    }
   ],
   "source": [
    "# Load test data\n",
    "test_data = pd.read_csv(dir_root+\"/data/test.csv\")\n",
    "test_data.head()"
   ]
  },
  {
   "cell_type": "markdown",
   "id": "127d9196",
   "metadata": {},
   "source": [
    "# Initial Basic Analysis"
   ]
  },
  {
   "cell_type": "code",
   "execution_count": 4,
   "id": "bfe2746d",
   "metadata": {},
   "outputs": [
    {
     "name": "stdout",
     "output_type": "stream",
     "text": [
      "% of women who survived: 74.20382165605095\n"
     ]
    }
   ],
   "source": [
    "women = train_data.loc[train_data.Sex == 'female'][\"Survived\"]\n",
    "perc_women = (sum(women)/len(women)) * 100\n",
    "\n",
    "print(\"% of women who survived:\", perc_women)"
   ]
  },
  {
   "cell_type": "code",
   "execution_count": 5,
   "id": "da1fae3b",
   "metadata": {},
   "outputs": [
    {
     "name": "stdout",
     "output_type": "stream",
     "text": [
      "% of men who survived: 18.890814558058924\n"
     ]
    }
   ],
   "source": [
    "men = train_data.loc[train_data.Sex == 'male'][\"Survived\"]\n",
    "perc_men = (sum(men)/len(men)) * 100\n",
    "\n",
    "print(\"% of men who survived:\", perc_men)"
   ]
  },
  {
   "cell_type": "code",
   "execution_count": 6,
   "id": "5adc7b02",
   "metadata": {},
   "outputs": [
    {
     "name": "stdout",
     "output_type": "stream",
     "text": [
      "% of 1st class passengers who surived 62.96296296296296\n"
     ]
    }
   ],
   "source": [
    "class_1 = train_data.loc[train_data.Pclass == 1]['Survived']\n",
    "perc_class_1 = ((sum(class_1))/len(class_1)) * 100\n",
    "\n",
    "print('% of 1st class passengers who surived', perc_class_1)"
   ]
  },
  {
   "cell_type": "code",
   "execution_count": 7,
   "id": "686b021f",
   "metadata": {},
   "outputs": [
    {
     "name": "stdout",
     "output_type": "stream",
     "text": [
      "% of 2nd class passengers who surived 47.28260869565217\n"
     ]
    }
   ],
   "source": [
    "class_2 = train_data.loc[train_data.Pclass == 2]['Survived']\n",
    "perc_class_2 = (sum(class_2)/len(class_2)) * 100\n",
    "\n",
    "print('% of 2nd class passengers who surived', perc_class_2)"
   ]
  },
  {
   "cell_type": "code",
   "execution_count": 8,
   "id": "a25aa7da",
   "metadata": {},
   "outputs": [
    {
     "name": "stdout",
     "output_type": "stream",
     "text": [
      "% of 3rd class passengers who surived 24.236252545824847\n"
     ]
    }
   ],
   "source": [
    "class_3 = train_data.loc[train_data.Pclass == 3]['Survived']\n",
    "perc_class_3 = (sum(class_3)/len(class_3)) * 100\n",
    "\n",
    "print('% of 3rd class passengers who surived', perc_class_3)"
   ]
  },
  {
   "cell_type": "code",
   "execution_count": 9,
   "id": "e0e8e8be",
   "metadata": {},
   "outputs": [
    {
     "name": "stdout",
     "output_type": "stream",
     "text": [
      "% of infant passengers, less than 1 years of age, who surived 100.0\n"
     ]
    }
   ],
   "source": [
    "infants = train_data.loc[train_data.Age < 1]['Survived']\n",
    "perc_infants = (sum(infants)/len(infants)) * 100\n",
    "\n",
    "print('% of infant passengers, less than 1 years of age, who surived', perc_infants)"
   ]
  },
  {
   "cell_type": "code",
   "execution_count": 10,
   "id": "cd91ab56",
   "metadata": {},
   "outputs": [
    {
     "name": "stdout",
     "output_type": "stream",
     "text": [
      "% of children passengers, between ages 1 to 12, who surived 53.2258064516129\n"
     ]
    }
   ],
   "source": [
    "children = train_data.loc[(train_data.Age >= 1) & (train_data.Age <= 12)]['Survived']\n",
    "perc_children = (sum(children)/len(children)) * 100\n",
    "\n",
    "print('% of children passengers, between ages 1 to 12, who surived', perc_children)"
   ]
  },
  {
   "cell_type": "code",
   "execution_count": 11,
   "id": "71282505",
   "metadata": {},
   "outputs": [
    {
     "name": "stdout",
     "output_type": "stream",
     "text": [
      "% of teenage passengers, between ages 13 to 17, who surived 47.72727272727273\n"
     ]
    }
   ],
   "source": [
    "teens = train_data.loc[(train_data.Age >= 13) & (train_data.Age <= 17)]['Survived']\n",
    "perc_teens = (sum(teens)/len(teens)) * 100\n",
    "\n",
    "print('% of teenage passengers, between ages 13 to 17, who surived', perc_teens)"
   ]
  },
  {
   "cell_type": "code",
   "execution_count": 12,
   "id": "7e26c0e4",
   "metadata": {},
   "outputs": [
    {
     "name": "stdout",
     "output_type": "stream",
     "text": [
      "% of young adult passengers, between ages 18 to 26, who surived 33.49514563106796\n"
     ]
    }
   ],
   "source": [
    "young_adults = train_data.loc[(train_data.Age >= 18) & (train_data.Age <= 26)]['Survived']\n",
    "perc_young_adults = (sum(young_adults)/len(young_adults)) * 100\n",
    "\n",
    "print('% of young adult passengers, between ages 18 to 26, who surived', perc_young_adults)"
   ]
  },
  {
   "cell_type": "code",
   "execution_count": 13,
   "id": "e6aa4647",
   "metadata": {},
   "outputs": [
    {
     "name": "stdout",
     "output_type": "stream",
     "text": [
      "% of adult passengers, between ages 27 to 39, who surived 42.672413793103445\n"
     ]
    }
   ],
   "source": [
    "adults = train_data.loc[(train_data.Age >= 27) & (train_data.Age <= 39)]['Survived']\n",
    "perc_adults = (sum(adults)/len(adults)) * 100\n",
    "\n",
    "print('% of adult passengers, between ages 27 to 39, who surived', perc_adults)"
   ]
  },
  {
   "cell_type": "code",
   "execution_count": 14,
   "id": "d7b25127",
   "metadata": {},
   "outputs": [
    {
     "name": "stdout",
     "output_type": "stream",
     "text": [
      "% of middle aged passengers, between ages 40 to 64, who surived 39.473684210526315\n"
     ]
    }
   ],
   "source": [
    "middle_aged = train_data.loc[(train_data.Age >= 40) & (train_data.Age <= 64)]['Survived']\n",
    "perc_middle_aged = (sum(middle_aged)/len(middle_aged)) * 100\n",
    "\n",
    "print('% of middle aged passengers, between ages 40 to 64, who surived', perc_middle_aged)"
   ]
  },
  {
   "cell_type": "code",
   "execution_count": 15,
   "id": "741cd747",
   "metadata": {},
   "outputs": [
    {
     "name": "stdout",
     "output_type": "stream",
     "text": [
      "% of elderly passengers, more than or equal to 65 years of age, who surived 9.090909090909092\n"
     ]
    }
   ],
   "source": [
    "elderly = train_data.loc[train_data.Age >= 65]['Survived']\n",
    "perc_elderly = (sum(elderly)/len(elderly)) * 100\n",
    "\n",
    "print('% of elderly passengers, more than or equal to 65 years of age, who surived', perc_elderly)"
   ]
  },
  {
   "cell_type": "code",
   "execution_count": 16,
   "id": "11490b32",
   "metadata": {},
   "outputs": [
    {
     "name": "stdout",
     "output_type": "stream",
     "text": [
      "% of passengers traveling with spouse and/or sibilings who surived 46.64310954063604\n"
     ]
    }
   ],
   "source": [
    "have_spouse_siblings = train_data.loc[train_data.SibSp > 0]['Survived']\n",
    "perc_have_spouse_siblings = (sum(have_spouse_siblings)/len(have_spouse_siblings)) * 100\n",
    "\n",
    "print('% of passengers traveling with spouse and/or sibilings who surived', perc_have_spouse_siblings)"
   ]
  },
  {
   "cell_type": "code",
   "execution_count": 17,
   "id": "74a937bb",
   "metadata": {},
   "outputs": [
    {
     "name": "stdout",
     "output_type": "stream",
     "text": [
      "% of passengers traveling with parents and/or children who surived 51.173708920187785\n"
     ]
    }
   ],
   "source": [
    "have_parent_children = train_data.loc[train_data.Parch > 0]['Survived']\n",
    "perc_have_parent_children = (sum(have_parent_children)/len(have_parent_children)) * 100\n",
    "\n",
    "print('% of passengers traveling with parents and/or children who surived', perc_have_parent_children)"
   ]
  },
  {
   "cell_type": "code",
   "execution_count": 18,
   "id": "a26cdfb9",
   "metadata": {},
   "outputs": [
    {
     "name": "stdout",
     "output_type": "stream",
     "text": [
      "% of passengers traveling alone who surived 30.353817504655495\n"
     ]
    }
   ],
   "source": [
    "travel_alone = train_data.loc[(train_data.Parch == 0) & (train_data.SibSp == 0)]['Survived']\n",
    "perc_travel_alone = (sum(travel_alone)/len(travel_alone)) * 100\n",
    "\n",
    "print('% of passengers traveling alone who surived', perc_travel_alone)"
   ]
  },
  {
   "cell_type": "markdown",
   "id": "9d06a278",
   "metadata": {},
   "source": [
    "# Converting Percentages to Rates"
   ]
  },
  {
   "cell_type": "code",
   "execution_count": 19,
   "id": "5c014458",
   "metadata": {},
   "outputs": [],
   "source": [
    "# converting percentage numbers back to decimals to make the values easier to work with later on\n",
    "rate_women = perc_women/100\n",
    "rate_men = perc_men/100\n",
    "rate_class_1 = perc_class_1/100\n",
    "rate_class_2 = perc_class_2/100\n",
    "rate_class_3 = perc_class_3/100\n",
    "rate_infants = perc_infants/100\n",
    "rate_children = perc_children/100\n",
    "rate_teens = perc_teens/100\n",
    "rate_young_adults = perc_young_adults/100\n",
    "rate_adults = perc_adults/100\n",
    "rate_middle_aged = perc_middle_aged/100\n",
    "rate_elderly = perc_elderly/100\n",
    "rate_have_spouse_siblings = perc_have_spouse_siblings/100\n",
    "rate_have_parent_children = perc_have_parent_children/100\n",
    "rate_travel_alone = perc_travel_alone/100"
   ]
  },
  {
   "cell_type": "markdown",
   "id": "7b31abb0",
   "metadata": {},
   "source": [
    "# Random Forest Model"
   ]
  },
  {
   "cell_type": "code",
   "execution_count": 20,
   "id": "26b1e87a",
   "metadata": {},
   "outputs": [
    {
     "name": "stdout",
     "output_type": "stream",
     "text": [
      "Done!\n"
     ]
    }
   ],
   "source": [
    "from sklearn.ensemble import RandomForestClassifier\n",
    "\n",
    "y = train_data[\"Survived\"]\n",
    "\n",
    "features = [\"Pclass\", \"Sex\", \"SibSp\", \"Parch\"]\n",
    "X = pd.get_dummies(train_data[features])\n",
    "X_test = pd.get_dummies(test_data[features])\n",
    "\n",
    "model = RandomForestClassifier(n_estimators=100, max_depth=6, random_state=1)\n",
    "model.fit(X, y)\n",
    "predictions = model.predict(X_test)\n",
    "\n",
    "output = pd.DataFrame({'PassengerId': test_data.PassengerId, 'Survived': predictions})\n",
    "output.to_csv('submission.csv', index=False)\n",
    "print(\"Done!\")"
   ]
  },
  {
   "cell_type": "code",
   "execution_count": 21,
   "id": "20186958",
   "metadata": {},
   "outputs": [
    {
     "name": "stdout",
     "output_type": "stream",
     "text": [
      "Done!\n"
     ]
    }
   ],
   "source": [
    "# Adding More Parameters for higher accuracy\n",
    "\n",
    "# change null value in Age to Average Age\n",
    "train_data['Age'].fillna(train_data['Age'].mean(), inplace=True)\n",
    "test_data['Age'].fillna(train_data['Age'].mean(), inplace=True)\n",
    "\n",
    "# change null value in Fare to Average Fare\n",
    "train_data['Fare'].fillna(train_data['Fare'].mean(), inplace=True)\n",
    "test_data['Fare'].fillna(train_data['Fare'].mean(), inplace=True)\n",
    "\n",
    "# run tree\n",
    "y = train_data[\"Survived\"]\n",
    "features = [\"Pclass\", \"Sex\", \"Age\", \"SibSp\", \"Parch\", \"Fare\", \"Embarked\"]\n",
    "X = pd.get_dummies(train_data[features])\n",
    "X_test = pd.get_dummies(test_data[features])\n",
    "\n",
    "model = RandomForestClassifier(n_estimators=90, max_depth=6, random_state=1)\n",
    "model.fit(X, y)\n",
    "predictions = model.predict(X_test)\n",
    "\n",
    "output = pd.DataFrame({'PassengerId': test_data.PassengerId, 'Survived': predictions})\n",
    "output.to_csv('submission.csv', index=False)\n",
    "print(\"Done!\")\n",
    "\n",
    "# Got 0.79186 Accuracy"
   ]
  },
  {
   "cell_type": "markdown",
   "id": "372f9a98",
   "metadata": {},
   "source": [
    "# Testing FastAI"
   ]
  },
  {
   "cell_type": "code",
   "execution_count": 3,
   "id": "5d4639b4",
   "metadata": {},
   "outputs": [
    {
     "name": "stdout",
     "output_type": "stream",
     "text": [
      "Fastai version : 2.7.12\n"
     ]
    }
   ],
   "source": [
    "# Checking version and making sure it is installed\n",
    "import fastai\n",
    "print(\"Fastai version : \" + fastai.__version__)"
   ]
  },
  {
   "cell_type": "code",
   "execution_count": 5,
   "id": "e3a1bfcd",
   "metadata": {},
   "outputs": [],
   "source": [
    "# Importing Libraries\n",
    "from fastai import *\n",
    "from fastai.tabular.all import *\n",
    "\n",
    "\n",
    "import seaborn as sns\n",
    "from matplotlib import pyplot as plt\n",
    "from IPython.display import Markdown, display\n",
    "pd.options.mode.chained_assignment = None  # default='warn'"
   ]
  },
  {
   "cell_type": "markdown",
   "id": "7364a51c",
   "metadata": {},
   "source": [
    "## Titanic Dataset"
   ]
  },
  {
   "cell_type": "code",
   "execution_count": 11,
   "id": "789cd583",
   "metadata": {},
   "outputs": [
    {
     "name": "stdout",
     "output_type": "stream",
     "text": [
      "train_data shape: (891, 12) | test_data shape: (418, 11)\n"
     ]
    }
   ],
   "source": [
    "# Dataframes size\n",
    "print(f\"train_data shape: {train_data.shape} | test_data shape: {test_data.shape}\")"
   ]
  },
  {
   "cell_type": "code",
   "execution_count": 12,
   "id": "109d3863",
   "metadata": {},
   "outputs": [
    {
     "name": "stdout",
     "output_type": "stream",
     "text": [
      "% Null distribution\n"
     ]
    },
    {
     "data": {
      "text/html": [
       "<div>\n",
       "<style scoped>\n",
       "    .dataframe tbody tr th:only-of-type {\n",
       "        vertical-align: middle;\n",
       "    }\n",
       "\n",
       "    .dataframe tbody tr th {\n",
       "        vertical-align: top;\n",
       "    }\n",
       "\n",
       "    .dataframe thead th {\n",
       "        text-align: right;\n",
       "    }\n",
       "</style>\n",
       "<table border=\"1\" class=\"dataframe\">\n",
       "  <thead>\n",
       "    <tr style=\"text-align: right;\">\n",
       "      <th></th>\n",
       "      <th>Cabin</th>\n",
       "      <th>Age</th>\n",
       "      <th>Embarked</th>\n",
       "      <th>PassengerId</th>\n",
       "      <th>Survived</th>\n",
       "      <th>Pclass</th>\n",
       "      <th>Name</th>\n",
       "      <th>Sex</th>\n",
       "      <th>SibSp</th>\n",
       "      <th>Parch</th>\n",
       "      <th>Ticket</th>\n",
       "      <th>Fare</th>\n",
       "    </tr>\n",
       "  </thead>\n",
       "  <tbody>\n",
       "    <tr>\n",
       "      <th>0</th>\n",
       "      <td>77.104377</td>\n",
       "      <td>19.86532</td>\n",
       "      <td>0.224467</td>\n",
       "      <td>0.0</td>\n",
       "      <td>0.0</td>\n",
       "      <td>0.0</td>\n",
       "      <td>0.0</td>\n",
       "      <td>0.0</td>\n",
       "      <td>0.0</td>\n",
       "      <td>0.0</td>\n",
       "      <td>0.0</td>\n",
       "      <td>0.0</td>\n",
       "    </tr>\n",
       "  </tbody>\n",
       "</table>\n",
       "</div>"
      ],
      "text/plain": [
       "       Cabin       Age  Embarked  PassengerId  Survived  Pclass  Name  Sex  \\\n",
       "0  77.104377  19.86532  0.224467          0.0       0.0     0.0   0.0  0.0   \n",
       "\n",
       "   SibSp  Parch  Ticket  Fare  \n",
       "0    0.0    0.0     0.0   0.0  "
      ]
     },
     "execution_count": 12,
     "metadata": {},
     "output_type": "execute_result"
    }
   ],
   "source": [
    "# Percentage of Null data for each column\n",
    "print(\"% Null distribution\")\n",
    "(train_data.isnull().sum()*100/train_data.shape[0]).sort_values(ascending = False).to_frame().T"
   ]
  },
  {
   "cell_type": "code",
   "execution_count": 13,
   "id": "6ea6de3f",
   "metadata": {},
   "outputs": [
    {
     "name": "stdout",
     "output_type": "stream",
     "text": [
      "# Uniques\n"
     ]
    },
    {
     "data": {
      "text/html": [
       "<div>\n",
       "<style scoped>\n",
       "    .dataframe tbody tr th:only-of-type {\n",
       "        vertical-align: middle;\n",
       "    }\n",
       "\n",
       "    .dataframe tbody tr th {\n",
       "        vertical-align: top;\n",
       "    }\n",
       "\n",
       "    .dataframe thead th {\n",
       "        text-align: right;\n",
       "    }\n",
       "</style>\n",
       "<table border=\"1\" class=\"dataframe\">\n",
       "  <thead>\n",
       "    <tr style=\"text-align: right;\">\n",
       "      <th></th>\n",
       "      <th>PassengerId</th>\n",
       "      <th>Name</th>\n",
       "      <th>Ticket</th>\n",
       "      <th>Fare</th>\n",
       "      <th>Cabin</th>\n",
       "      <th>Age</th>\n",
       "      <th>SibSp</th>\n",
       "      <th>Parch</th>\n",
       "      <th>Pclass</th>\n",
       "      <th>Embarked</th>\n",
       "      <th>Survived</th>\n",
       "      <th>Sex</th>\n",
       "    </tr>\n",
       "  </thead>\n",
       "  <tbody>\n",
       "    <tr>\n",
       "      <th>0</th>\n",
       "      <td>891</td>\n",
       "      <td>891</td>\n",
       "      <td>681</td>\n",
       "      <td>248</td>\n",
       "      <td>147</td>\n",
       "      <td>88</td>\n",
       "      <td>7</td>\n",
       "      <td>7</td>\n",
       "      <td>3</td>\n",
       "      <td>3</td>\n",
       "      <td>2</td>\n",
       "      <td>2</td>\n",
       "    </tr>\n",
       "  </tbody>\n",
       "</table>\n",
       "</div>"
      ],
      "text/plain": [
       "   PassengerId  Name  Ticket  Fare  Cabin  Age  SibSp  Parch  Pclass  \\\n",
       "0          891   891     681   248    147   88      7      7       3   \n",
       "\n",
       "   Embarked  Survived  Sex  \n",
       "0         3         2    2  "
      ]
     },
     "metadata": {},
     "output_type": "display_data"
    }
   ],
   "source": [
    "# Number of Unique Values\n",
    "print(\"# Uniques\")\n",
    "display(train_data.nunique().sort_values(ascending = False).to_frame().T)"
   ]
  },
  {
   "cell_type": "code",
   "execution_count": 14,
   "id": "8fe9bdc9",
   "metadata": {},
   "outputs": [
    {
     "name": "stdout",
     "output_type": "stream",
     "text": [
      "train extended shape: (891, 21) | test extended shape: (418, 20)\n"
     ]
    }
   ],
   "source": [
    "# Importing extended Titanic data\n",
    "test_ext = pd.read_csv(dir_root+\"/data/extended/test.csv\")\n",
    "train_ext = pd.read_csv(dir_root+\"/data/extended/train.csv\")\n",
    "print(f\"train extended shape: {train_ext.shape} | test extended shape: {test_ext.shape}\")"
   ]
  },
  {
   "cell_type": "code",
   "execution_count": 16,
   "id": "a0ab2d2f",
   "metadata": {},
   "outputs": [
    {
     "name": "stdout",
     "output_type": "stream",
     "text": [
      "% Null distribution\n"
     ]
    },
    {
     "data": {
      "text/html": [
       "<div>\n",
       "<style scoped>\n",
       "    .dataframe tbody tr th:only-of-type {\n",
       "        vertical-align: middle;\n",
       "    }\n",
       "\n",
       "    .dataframe tbody tr th {\n",
       "        vertical-align: top;\n",
       "    }\n",
       "\n",
       "    .dataframe thead th {\n",
       "        text-align: right;\n",
       "    }\n",
       "</style>\n",
       "<table border=\"1\" class=\"dataframe\">\n",
       "  <thead>\n",
       "    <tr style=\"text-align: right;\">\n",
       "      <th></th>\n",
       "      <th>Body</th>\n",
       "      <th>Cabin</th>\n",
       "      <th>Lifeboat</th>\n",
       "      <th>Age</th>\n",
       "      <th>Age_wiki</th>\n",
       "      <th>Embarked</th>\n",
       "      <th>Destination</th>\n",
       "      <th>Boarded</th>\n",
       "      <th>Hometown</th>\n",
       "      <th>Name_wiki</th>\n",
       "      <th>...</th>\n",
       "      <th>Class</th>\n",
       "      <th>Survived</th>\n",
       "      <th>Fare</th>\n",
       "      <th>Ticket</th>\n",
       "      <th>Parch</th>\n",
       "      <th>SibSp</th>\n",
       "      <th>Sex</th>\n",
       "      <th>Name</th>\n",
       "      <th>Pclass</th>\n",
       "      <th>PassengerId</th>\n",
       "    </tr>\n",
       "  </thead>\n",
       "  <tbody>\n",
       "    <tr>\n",
       "      <th>0</th>\n",
       "      <td>90.23569</td>\n",
       "      <td>77.104377</td>\n",
       "      <td>61.279461</td>\n",
       "      <td>19.86532</td>\n",
       "      <td>0.448934</td>\n",
       "      <td>0.224467</td>\n",
       "      <td>0.224467</td>\n",
       "      <td>0.224467</td>\n",
       "      <td>0.224467</td>\n",
       "      <td>0.224467</td>\n",
       "      <td>...</td>\n",
       "      <td>0.224467</td>\n",
       "      <td>0.0</td>\n",
       "      <td>0.0</td>\n",
       "      <td>0.0</td>\n",
       "      <td>0.0</td>\n",
       "      <td>0.0</td>\n",
       "      <td>0.0</td>\n",
       "      <td>0.0</td>\n",
       "      <td>0.0</td>\n",
       "      <td>0.0</td>\n",
       "    </tr>\n",
       "  </tbody>\n",
       "</table>\n",
       "<p>1 rows × 21 columns</p>\n",
       "</div>"
      ],
      "text/plain": [
       "       Body      Cabin   Lifeboat       Age  Age_wiki  Embarked  Destination  \\\n",
       "0  90.23569  77.104377  61.279461  19.86532  0.448934  0.224467     0.224467   \n",
       "\n",
       "    Boarded  Hometown  Name_wiki  ...     Class  Survived  Fare  Ticket  \\\n",
       "0  0.224467  0.224467   0.224467  ...  0.224467       0.0   0.0     0.0   \n",
       "\n",
       "   Parch  SibSp  Sex  Name  Pclass  PassengerId  \n",
       "0    0.0    0.0  0.0   0.0     0.0          0.0  \n",
       "\n",
       "[1 rows x 21 columns]"
      ]
     },
     "metadata": {},
     "output_type": "display_data"
    }
   ],
   "source": [
    "# Checking for Null values\n",
    "print(\"% Null distribution\")\n",
    "display((train_ext.isnull().sum()*100/train_data.shape[0]).sort_values(ascending = False).to_frame().T)"
   ]
  },
  {
   "cell_type": "code",
   "execution_count": 17,
   "id": "6ab74053",
   "metadata": {},
   "outputs": [
    {
     "name": "stdout",
     "output_type": "stream",
     "text": [
      "# Uniques\n"
     ]
    },
    {
     "data": {
      "text/html": [
       "<div>\n",
       "<style scoped>\n",
       "    .dataframe tbody tr th:only-of-type {\n",
       "        vertical-align: middle;\n",
       "    }\n",
       "\n",
       "    .dataframe tbody tr th {\n",
       "        vertical-align: top;\n",
       "    }\n",
       "\n",
       "    .dataframe thead th {\n",
       "        text-align: right;\n",
       "    }\n",
       "</style>\n",
       "<table border=\"1\" class=\"dataframe\">\n",
       "  <thead>\n",
       "    <tr style=\"text-align: right;\">\n",
       "      <th></th>\n",
       "      <th>PassengerId</th>\n",
       "      <th>Name</th>\n",
       "      <th>Name_wiki</th>\n",
       "      <th>WikiId</th>\n",
       "      <th>Ticket</th>\n",
       "      <th>Hometown</th>\n",
       "      <th>Fare</th>\n",
       "      <th>Destination</th>\n",
       "      <th>Cabin</th>\n",
       "      <th>Age</th>\n",
       "      <th>...</th>\n",
       "      <th>Age_wiki</th>\n",
       "      <th>Lifeboat</th>\n",
       "      <th>Parch</th>\n",
       "      <th>SibSp</th>\n",
       "      <th>Boarded</th>\n",
       "      <th>Embarked</th>\n",
       "      <th>Pclass</th>\n",
       "      <th>Class</th>\n",
       "      <th>Survived</th>\n",
       "      <th>Sex</th>\n",
       "    </tr>\n",
       "  </thead>\n",
       "  <tbody>\n",
       "    <tr>\n",
       "      <th>0</th>\n",
       "      <td>891</td>\n",
       "      <td>891</td>\n",
       "      <td>889</td>\n",
       "      <td>889</td>\n",
       "      <td>681</td>\n",
       "      <td>437</td>\n",
       "      <td>248</td>\n",
       "      <td>234</td>\n",
       "      <td>147</td>\n",
       "      <td>88</td>\n",
       "      <td>...</td>\n",
       "      <td>74</td>\n",
       "      <td>22</td>\n",
       "      <td>7</td>\n",
       "      <td>7</td>\n",
       "      <td>4</td>\n",
       "      <td>3</td>\n",
       "      <td>3</td>\n",
       "      <td>3</td>\n",
       "      <td>2</td>\n",
       "      <td>2</td>\n",
       "    </tr>\n",
       "  </tbody>\n",
       "</table>\n",
       "<p>1 rows × 21 columns</p>\n",
       "</div>"
      ],
      "text/plain": [
       "   PassengerId  Name  Name_wiki  WikiId  Ticket  Hometown  Fare  Destination  \\\n",
       "0          891   891        889     889     681       437   248          234   \n",
       "\n",
       "   Cabin  Age  ...  Age_wiki  Lifeboat  Parch  SibSp  Boarded  Embarked  \\\n",
       "0    147   88  ...        74        22      7      7        4         3   \n",
       "\n",
       "   Pclass  Class  Survived  Sex  \n",
       "0       3      3         2    2  \n",
       "\n",
       "[1 rows x 21 columns]"
      ]
     },
     "metadata": {},
     "output_type": "display_data"
    }
   ],
   "source": [
    "# Checking Unique Values\n",
    "print(\"# Uniques\")\n",
    "display(train_ext.nunique().sort_values(ascending = False).to_frame().T)"
   ]
  },
  {
   "cell_type": "code",
   "execution_count": null,
   "id": "277ae6e7",
   "metadata": {},
   "outputs": [],
   "source": []
  }
 ],
 "metadata": {
  "kernelspec": {
   "display_name": "Python 3 (ipykernel)",
   "language": "python",
   "name": "python3"
  },
  "language_info": {
   "codemirror_mode": {
    "name": "ipython",
    "version": 3
   },
   "file_extension": ".py",
   "mimetype": "text/x-python",
   "name": "python",
   "nbconvert_exporter": "python",
   "pygments_lexer": "ipython3",
   "version": "3.11.4"
  }
 },
 "nbformat": 4,
 "nbformat_minor": 5
}
